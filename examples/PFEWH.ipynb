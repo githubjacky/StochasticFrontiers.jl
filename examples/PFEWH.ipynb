{
 "cells": [
  {
   "cell_type": "code",
   "execution_count": 1,
   "id": "6390d3d2-00e2-4602-80e8-0659bacbab66",
   "metadata": {
    "tags": []
   },
   "outputs": [
    {
     "name": "stderr",
     "output_type": "stream",
     "text": [
      "\u001b[32m\u001b[1m  Activating\u001b[22m\u001b[39m project at `~/Documents/project/StochasticFrontiers.jl`\n",
      "\u001b[36m\u001b[1m[ \u001b[22m\u001b[39m\u001b[36m\u001b[1mInfo: \u001b[22m\u001b[39mPrecompiling StochasticFrontiers [207de5b1-58d8-4e40-9f1b-ffdd2ece041b]\n"
     ]
    }
   ],
   "source": [
    "using Pkg; Pkg.activate(\"..\");\n",
    "\n",
    "using StochasticFrontiers;"
   ]
  },
  {
   "cell_type": "code",
   "execution_count": 19,
   "id": "d0b3f714-18df-4e5b-a9f3-ce792cd19922",
   "metadata": {
    "tags": []
   },
   "outputs": [
    {
     "name": "stdout",
     "output_type": "stream",
     "text": [
      "\n",
      "\u001b[33m * Model specification\u001b[39m\n",
      "\n",
      "    true fixed effect of Wang and Ho (2010 JE)\n",
      "\n",
      "    Yᵢₜ = αᵢ + Xᵢₜ*β + ϵᵢₜ\n",
      "        where ϵᵢₜ = vᵢₜ - uᵢₜ\n",
      "\n",
      "        further,     \n",
      "            vᵢₜ ∼ N(0, σᵥ²),\n",
      "            σᵥ²  = exp(log_σᵥ²)\n",
      "\n",
      "            uᵢₜ ∼ hscaleᵢₜ * uᵢ\n",
      "            hscaleᵢₜ = exp(log_hscaleᵢₜ)\n",
      "\n",
      "            uᵢ ∼ N⁺(0, σᵤ²),\n",
      "            σᵤ² = exp(log_σᵤ²)\n",
      "\n",
      "    In the case of type(cost), \"- uᵢₜ\" above should be changed to \"+ uᵢₜ\"\n",
      "\n",
      "\n",
      "\u001b[33m * optimization(with warmstart) \u001b[39m\n",
      "\n",
      "\u001b[36m*********************************\u001b[39m\n",
      "\u001b[36m \u001b[39m\u001b[36m      Estimation Results:\u001b[39m\n",
      "\u001b[36m*********************************\u001b[39m\n",
      "\n",
      " Numberf Of Observations:    1220\n",
      " Log-likelihood Value:       -1363.73164\n",
      " Time Consuming:             1.1920928955078125e-6\n",
      "\n",
      " Converged:                  true\n",
      " Number Of Total Iterations: 22\n",
      " Iteration Limit Reached:    false\n",
      "\n",
      "┌────────────────┬───────┬─────────┬───────────┬─────────┬──────────┬───────────┬───────────┐\n",
      "│\u001b[1m                \u001b[0m│\u001b[1m  Var. \u001b[0m│\u001b[1m   Coef. \u001b[0m│\u001b[1m Std. Err. \u001b[0m│\u001b[1m       z \u001b[0m│\u001b[1m Pr(>|z|) \u001b[0m│\u001b[1m Lower 95% \u001b[0m│\u001b[1m Upper 95% \u001b[0m│\n",
      "├────────────────┼───────┼─────────┼───────────┼─────────┼──────────┼───────────┼───────────┤\n",
      "│ demeanfontiers │    x1 │  0.6550 │    0.1080 │  6.0634 │   0.0000 │    0.4432 │    0.8667 │\n",
      "│                │    x2 │  0.1500 │    0.0903 │  1.6611 │   0.0969 │   -0.0270 │    0.3270 │\n",
      "│                │    x3 │  0.3397 │    0.0887 │  3.8291 │   0.0001 │    0.1658 │    0.5136 │\n",
      "│        log_σᵤ² │ _cons │  8.5235 │    2.9841 │  2.8563 │   0.0044 │    2.6748 │   14.3722 │\n",
      "│        log_σᵥ² │ _cons │ -0.1581 │    0.0450 │ -3.5139 │   0.0005 │   -0.2463 │   -0.0699 │\n",
      "│         hscale │    z1 │  0.0179 │    0.0334 │  0.5343 │   0.5932 │   -0.0476 │    0.0834 │\n",
      "│                │    z2 │ -0.6519 │    0.3394 │ -1.9211 │   0.0550 │   -1.3171 │    0.0132 │\n",
      "└────────────────┴───────┴─────────┴───────────┴─────────┴──────────┴───────────┴───────────┘\n",
      "Table format: text. Use `sfopt(...)` to choose between `:text`, `:html`, and `:latex`.\n",
      "\n",
      "\n",
      "\u001b[36m*********************************\u001b[39m\n",
      "\u001b[36m \u001b[39m\u001b[36m    Additional Information:     \u001b[39m\n",
      "\u001b[36m*********************************\u001b[39m\n",
      "\n",
      " - OLS (frontier-only) log-likelihood: -3087.680970873218\n",
      " - Skewness of OLS residuals: -1.3022647454966818\n",
      " - The sample mean of the JLMS inefficiency index: 0.8428\n",
      " - The sample mean of the BC efficiency index: 0.55869\n",
      " - Use `name.list` to see saved results (keys and values) where `name` is the return specified in `name = sfmodel_fit(...)`\n",
      "     - `name.loglikelihood`: the log-likelihood value of the model;\n",
      "     - `name.jlms`: Jondrow et al. (1982) inefficiency index;\n",
      "     - `name.bc`: Battese and Coelli (1988) efficiency index;\n",
      " - Use `keys(name)` to see available keys.\n",
      "\n",
      "\u001b[36m*********************************\u001b[39m\n",
      "\n"
     ]
    }
   ],
   "source": [
    "# model specification(Half Normal)\n",
    "res = sfmodel_fit(\n",
    "    spec = sfspec(\n",
    "        usedata(\"data/WangHo2010_data.csv\"),\n",
    "        model     = :PFEWH, \n",
    "        type      = :Prod, \n",
    "        dist      = Half(σᵤ² = :_cons), \n",
    "        σᵥ²       = :_cons, \n",
    "        hscale    = (:z1, :z2),\n",
    "        ivar      = :cnum, \n",
    "        depvar    = :y, \n",
    "        frontiers = (:x1, :x2, :x3)\n",
    "    ),\n",
    "    options = sfopt(\n",
    "        warmstart_maxIT  = 100,\n",
    "        warmstart_solver = :NewtonTrustRegion, \n",
    "        main_solver      = :NewtonTrustRegion\n",
    "    ), \n",
    ");"
   ]
  },
  {
   "cell_type": "code",
   "execution_count": 20,
   "id": "bc98018d-d484-47aa-8a10-8d4ad9fcdf55",
   "metadata": {
    "tags": []
   },
   "outputs": [
    {
     "data": {
      "text/html": [
       "<div><div style = \"float: left;\"><span>1220×2 DataFrame</span></div><div style = \"float: right;\"><span style = \"font-style: italic;\">1195 rows omitted</span></div><div style = \"clear: both;\"></div></div><div class = \"data-frame\" style = \"overflow-x: scroll;\"><table class = \"data-frame\" style = \"margin-bottom: 6px;\"><thead><tr class = \"header\"><th class = \"rowNumber\" style = \"font-weight: bold; text-align: right;\">Row</th><th style = \"text-align: left;\">marg_z1</th><th style = \"text-align: left;\">marg_z2</th></tr><tr class = \"subheader headerLastRow\"><th class = \"rowNumber\" style = \"font-weight: bold; text-align: right;\"></th><th title = \"Float64\" style = \"text-align: left;\">Float64</th><th title = \"Float64\" style = \"text-align: left;\">Float64</th></tr></thead><tbody><tr><td class = \"rowNumber\" style = \"font-weight: bold; text-align: right;\">1</td><td style = \"text-align: right;\">0.00261496</td><td style = \"text-align: right;\">-0.0954585</td></tr><tr><td class = \"rowNumber\" style = \"font-weight: bold; text-align: right;\">2</td><td style = \"text-align: right;\">0.00252536</td><td style = \"text-align: right;\">-0.0921879</td></tr><tr><td class = \"rowNumber\" style = \"font-weight: bold; text-align: right;\">3</td><td style = \"text-align: right;\">0.00247709</td><td style = \"text-align: right;\">-0.0904254</td></tr><tr><td class = \"rowNumber\" style = \"font-weight: bold; text-align: right;\">4</td><td style = \"text-align: right;\">0.00259325</td><td style = \"text-align: right;\">-0.094666</td></tr><tr><td class = \"rowNumber\" style = \"font-weight: bold; text-align: right;\">5</td><td style = \"text-align: right;\">0.00260072</td><td style = \"text-align: right;\">-0.0949387</td></tr><tr><td class = \"rowNumber\" style = \"font-weight: bold; text-align: right;\">6</td><td style = \"text-align: right;\">0.00264484</td><td style = \"text-align: right;\">-0.0965491</td></tr><tr><td class = \"rowNumber\" style = \"font-weight: bold; text-align: right;\">7</td><td style = \"text-align: right;\">0.00385442</td><td style = \"text-align: right;\">-0.140705</td></tr><tr><td class = \"rowNumber\" style = \"font-weight: bold; text-align: right;\">8</td><td style = \"text-align: right;\">0.00375109</td><td style = \"text-align: right;\">-0.136933</td></tr><tr><td class = \"rowNumber\" style = \"font-weight: bold; text-align: right;\">9</td><td style = \"text-align: right;\">0.00400504</td><td style = \"text-align: right;\">-0.146203</td></tr><tr><td class = \"rowNumber\" style = \"font-weight: bold; text-align: right;\">10</td><td style = \"text-align: right;\">0.00382857</td><td style = \"text-align: right;\">-0.139761</td></tr><tr><td class = \"rowNumber\" style = \"font-weight: bold; text-align: right;\">11</td><td style = \"text-align: right;\">0.00807926</td><td style = \"text-align: right;\">-0.294932</td></tr><tr><td class = \"rowNumber\" style = \"font-weight: bold; text-align: right;\">12</td><td style = \"text-align: right;\">0.0039905</td><td style = \"text-align: right;\">-0.145672</td></tr><tr><td class = \"rowNumber\" style = \"font-weight: bold; text-align: right;\">13</td><td style = \"text-align: right;\">0.012445</td><td style = \"text-align: right;\">-0.4543</td></tr><tr><td style = \"text-align: right;\">&vellip;</td><td style = \"text-align: right;\">&vellip;</td><td style = \"text-align: right;\">&vellip;</td></tr><tr><td class = \"rowNumber\" style = \"font-weight: bold; text-align: right;\">1209</td><td style = \"text-align: right;\">0.00987358</td><td style = \"text-align: right;\">-0.360433</td></tr><tr><td class = \"rowNumber\" style = \"font-weight: bold; text-align: right;\">1210</td><td style = \"text-align: right;\">0.00944594</td><td style = \"text-align: right;\">-0.344822</td></tr><tr><td class = \"rowNumber\" style = \"font-weight: bold; text-align: right;\">1211</td><td style = \"text-align: right;\">0.00947243</td><td style = \"text-align: right;\">-0.345789</td></tr><tr><td class = \"rowNumber\" style = \"font-weight: bold; text-align: right;\">1212</td><td style = \"text-align: right;\">0.00813033</td><td style = \"text-align: right;\">-0.296796</td></tr><tr><td class = \"rowNumber\" style = \"font-weight: bold; text-align: right;\">1213</td><td style = \"text-align: right;\">0.00759184</td><td style = \"text-align: right;\">-0.277138</td></tr><tr><td class = \"rowNumber\" style = \"font-weight: bold; text-align: right;\">1214</td><td style = \"text-align: right;\">0.00752395</td><td style = \"text-align: right;\">-0.27466</td></tr><tr><td class = \"rowNumber\" style = \"font-weight: bold; text-align: right;\">1215</td><td style = \"text-align: right;\">0.00645382</td><td style = \"text-align: right;\">-0.235595</td></tr><tr><td class = \"rowNumber\" style = \"font-weight: bold; text-align: right;\">1216</td><td style = \"text-align: right;\">0.00664281</td><td style = \"text-align: right;\">-0.242494</td></tr><tr><td class = \"rowNumber\" style = \"font-weight: bold; text-align: right;\">1217</td><td style = \"text-align: right;\">0.00713877</td><td style = \"text-align: right;\">-0.260599</td></tr><tr><td class = \"rowNumber\" style = \"font-weight: bold; text-align: right;\">1218</td><td style = \"text-align: right;\">0.00716932</td><td style = \"text-align: right;\">-0.261714</td></tr><tr><td class = \"rowNumber\" style = \"font-weight: bold; text-align: right;\">1219</td><td style = \"text-align: right;\">0.00671462</td><td style = \"text-align: right;\">-0.245116</td></tr><tr><td class = \"rowNumber\" style = \"font-weight: bold; text-align: right;\">1220</td><td style = \"text-align: right;\">0.00653199</td><td style = \"text-align: right;\">-0.238449</td></tr></tbody></table></div>"
      ],
      "text/latex": [
       "\\begin{tabular}{r|cc}\n",
       "\t& marg\\_z1 & marg\\_z2\\\\\n",
       "\t\\hline\n",
       "\t& Float64 & Float64\\\\\n",
       "\t\\hline\n",
       "\t1 & 0.00261496 & -0.0954585 \\\\\n",
       "\t2 & 0.00252536 & -0.0921879 \\\\\n",
       "\t3 & 0.00247709 & -0.0904254 \\\\\n",
       "\t4 & 0.00259325 & -0.094666 \\\\\n",
       "\t5 & 0.00260072 & -0.0949387 \\\\\n",
       "\t6 & 0.00264484 & -0.0965491 \\\\\n",
       "\t7 & 0.00385442 & -0.140705 \\\\\n",
       "\t8 & 0.00375109 & -0.136933 \\\\\n",
       "\t9 & 0.00400504 & -0.146203 \\\\\n",
       "\t10 & 0.00382857 & -0.139761 \\\\\n",
       "\t11 & 0.00807926 & -0.294932 \\\\\n",
       "\t12 & 0.0039905 & -0.145672 \\\\\n",
       "\t13 & 0.012445 & -0.4543 \\\\\n",
       "\t14 & 0.0103903 & -0.379294 \\\\\n",
       "\t15 & 0.00985889 & -0.359896 \\\\\n",
       "\t16 & 0.00975307 & -0.356034 \\\\\n",
       "\t17 & 0.00934495 & -0.341135 \\\\\n",
       "\t18 & 0.00900296 & -0.328651 \\\\\n",
       "\t19 & 0.0129272 & -0.471903 \\\\\n",
       "\t20 & 0.0127713 & -0.466213 \\\\\n",
       "\t21 & 0.0126824 & -0.462968 \\\\\n",
       "\t22 & 0.0127457 & -0.465279 \\\\\n",
       "\t23 & 0.0133344 & -0.486771 \\\\\n",
       "\t24 & 0.0138088 & -0.504088 \\\\\n",
       "\t25 & 0.0154048 & -0.562349 \\\\\n",
       "\t26 & 0.0156649 & -0.571843 \\\\\n",
       "\t27 & 0.0152996 & -0.558509 \\\\\n",
       "\t28 & 0.0153441 & -0.560135 \\\\\n",
       "\t29 & 0.0150638 & -0.549899 \\\\\n",
       "\t30 & 0.0149489 & -0.545705 \\\\\n",
       "\t$\\dots$ & $\\dots$ & $\\dots$ \\\\\n",
       "\\end{tabular}\n"
      ],
      "text/plain": [
       "\u001b[1m1220×2 DataFrame\u001b[0m\n",
       "\u001b[1m  Row \u001b[0m│\u001b[1m marg_z1    \u001b[0m\u001b[1m marg_z2    \u001b[0m\n",
       "      │\u001b[90m Float64    \u001b[0m\u001b[90m Float64    \u001b[0m\n",
       "──────┼────────────────────────\n",
       "    1 │ 0.00261496  -0.0954585\n",
       "    2 │ 0.00252536  -0.0921879\n",
       "    3 │ 0.00247709  -0.0904254\n",
       "    4 │ 0.00259325  -0.094666\n",
       "    5 │ 0.00260072  -0.0949387\n",
       "    6 │ 0.00264484  -0.0965491\n",
       "    7 │ 0.00385442  -0.140705\n",
       "    8 │ 0.00375109  -0.136933\n",
       "    9 │ 0.00400504  -0.146203\n",
       "   10 │ 0.00382857  -0.139761\n",
       "   11 │ 0.00807926  -0.294932\n",
       "  ⋮   │     ⋮           ⋮\n",
       " 1211 │ 0.00947243  -0.345789\n",
       " 1212 │ 0.00813033  -0.296796\n",
       " 1213 │ 0.00759184  -0.277138\n",
       " 1214 │ 0.00752395  -0.27466\n",
       " 1215 │ 0.00645382  -0.235595\n",
       " 1216 │ 0.00664281  -0.242494\n",
       " 1217 │ 0.00713877  -0.260599\n",
       " 1218 │ 0.00716932  -0.261714\n",
       " 1219 │ 0.00671462  -0.245116\n",
       " 1220 │ 0.00653199  -0.238449\n",
       "\u001b[36m              1199 rows omitted\u001b[0m"
      ]
     },
     "execution_count": 20,
     "metadata": {},
     "output_type": "execute_result"
    }
   ],
   "source": [
    "marginal, marginal_mean = sfmarginal(res)\n",
    "marginal"
   ]
  },
  {
   "cell_type": "code",
   "execution_count": 2,
   "id": "4e8b844d-1f80-41c1-b973-0e2b3978e509",
   "metadata": {
    "tags": []
   },
   "outputs": [
    {
     "name": "stdout",
     "output_type": "stream",
     "text": [
      "\n",
      "\u001b[33m * Model specification\u001b[39m\n",
      "\n",
      "    true fixed effect of Wang and Ho (2010 JE)\n",
      "\n",
      "    Yᵢₜ = αᵢ + Xᵢₜ*β + ϵᵢₜ\n",
      "        where ϵᵢₜ = vᵢₜ - uᵢₜ\n",
      "\n",
      "        further,     \n",
      "            vᵢₜ ∼ N(0, σᵥ²),\n",
      "            σᵥ²  = exp(log_σᵥ²)\n",
      "\n",
      "            uᵢₜ ∼ hscaleᵢₜ * uᵢ\n",
      "            hscaleᵢₜ = exp(log_hscaleᵢₜ)\n",
      "\n",
      "            uᵢ ∼ N⁺(0, σᵤ²),\n",
      "            σᵤ² = exp(log_σᵤ²)\n",
      "\n",
      "    In the case of type(cost), \"- uᵢₜ\" above should be changed to \"+ uᵢₜ\"\n",
      "\n",
      "\n",
      "\u001b[33m * optimization(with warmstart) \u001b[39m\n",
      "\n",
      "\u001b[36m*********************************\u001b[39m\n",
      "\u001b[36m \u001b[39m\u001b[36m      Estimation Results:\u001b[39m\n",
      "\u001b[36m*********************************\u001b[39m\n",
      "\n",
      " Numberf Of Observations:    1000\n",
      " Log-likelihood Value:       -364.19278\n",
      " Time Consuming:             0.0033910274505615234\n",
      "\n",
      " Converged:                  true\n",
      " Number Of Total Iterations: 203\n",
      " Iteration Limit Reached:    false\n",
      "\n",
      "┌────────────────┬───────┬─────────┬───────────┬──────────┬──────────┬───────────┬───────────┐\n",
      "│\u001b[1m                \u001b[0m│\u001b[1m  Var. \u001b[0m│\u001b[1m   Coef. \u001b[0m│\u001b[1m Std. Err. \u001b[0m│\u001b[1m        z \u001b[0m│\u001b[1m Pr(>|z|) \u001b[0m│\u001b[1m Lower 95% \u001b[0m│\u001b[1m Upper 95% \u001b[0m│\n",
      "├────────────────┼───────┼─────────┼───────────┼──────────┼──────────┼───────────┼───────────┤\n",
      "│ demeanfontiers │   xit │  0.4973 │    0.0115 │  43.2806 │   0.0000 │    0.4748 │    0.5198 │\n",
      "│              μ │ _cons │  0.7955 │    0.1397 │   5.6950 │   0.0000 │    0.5217 │    1.0692 │\n",
      "│        log_σᵤ² │ _cons │ -0.7572 │    0.3157 │  -2.3983 │   0.0167 │   -1.3761 │   -0.1384 │\n",
      "│        log_σᵥ² │ _cons │ -2.2542 │    0.0498 │ -45.2973 │   0.0000 │   -2.3517 │   -2.1566 │\n",
      "│         hscale │   zit │  0.4691 │    0.0305 │  15.3799 │   0.0000 │    0.4093 │    0.5289 │\n",
      "└────────────────┴───────┴─────────┴───────────┴──────────┴──────────┴───────────┴───────────┘\n",
      "Table format: text. Use `sfopt(...)` to choose between `:text`, `:html`, and `:latex`.\n",
      "\n",
      "\n",
      "\u001b[36m*********************************\u001b[39m\n",
      "\u001b[36m \u001b[39m\u001b[36m    Additional Information:     \u001b[39m\n",
      "\u001b[36m*********************************\u001b[39m\n",
      "\n",
      " - OLS (frontier-only) log-likelihood: -1576.0383107249938\n",
      " - Skewness of OLS residuals: -2.7667757120103524\n",
      " - The sample mean of the JLMS inefficiency index: 1.0872\n",
      " - The sample mean of the BC efficiency index: 0.44359\n",
      " - Use `name.list` to see saved results (keys and values) where `name` is the return specified in `name = sfmodel_fit(...)`\n",
      "     - `name.loglikelihood`: the log-likelihood value of the model;\n",
      "     - `name.jlms`: Jondrow et al. (1982) inefficiency index;\n",
      "     - `name.bc`: Battese and Coelli (1988) efficiency index;\n",
      " - Use `keys(name)` to see available keys.\n",
      "\n",
      "\u001b[36m*********************************\u001b[39m\n",
      "\n"
     ]
    }
   ],
   "source": [
    "# model specification(Truncated Normal)\n",
    "\n",
    "\n",
    "res = sfmodel_fit(\n",
    "    spec = sfspec(\n",
    "        usedata(\"data/WH2010T.csv\"),\n",
    "        model     = :PFEWH, \n",
    "        type      = :Prod, \n",
    "        dist      = Trun(μ = :_cons, σᵤ² = :_cons), \n",
    "        σᵥ²       = :_cons, \n",
    "        hscale    = :zit,\n",
    "        ivar      = :id, \n",
    "        depvar    = :yit, \n",
    "        frontiers = (:xit,)\n",
    "    ),\n",
    "    options = sfopt(\n",
    "        warmstart_maxIT  = 200,\n",
    "        warmstart_solver = :NelderMead, \n",
    "        main_solver      = :Newton\n",
    "    ), \n",
    ");"
   ]
  },
  {
   "cell_type": "code",
   "execution_count": 3,
   "id": "5511f889-ff3f-4b22-944e-507fb305fdc7",
   "metadata": {
    "tags": []
   },
   "outputs": [
    {
     "data": {
      "text/plain": [
       "1000×2 Matrix{Float64}:\n",
       " 3.61393   0.0281123\n",
       " 4.53487   0.0114687\n",
       " 0.688788  0.502958\n",
       " 2.91923   0.0554889\n",
       " 1.42213   0.242788\n",
       " 1.87919   0.154474\n",
       " 1.1253    0.325893\n",
       " 0.611531  0.543179\n",
       " 1.12981   0.324436\n",
       " 2.67656   0.070418\n",
       " 0.59408   0.572453\n",
       " 0.411208  0.674546\n",
       " 1.03147   0.396872\n",
       " ⋮         \n",
       " 0.675189  0.511115\n",
       " 0.997896  0.371913\n",
       " 2.53337   0.0815896\n",
       " 1.50748   0.223621\n",
       " 1.65469   0.193392\n",
       " 1.47208   0.231574\n",
       " 1.78248   0.170511\n",
       " 0.759429  0.469084\n",
       " 1.69135   0.186528\n",
       " 4.94884   0.00787078\n",
       " 2.12648   0.121574\n",
       " 2.71312   0.0684407"
      ]
     },
     "execution_count": 3,
     "metadata": {},
     "output_type": "execute_result"
    }
   ],
   "source": [
    "[sf_inefficiency(res) sf_efficiency(res)]"
   ]
  },
  {
   "cell_type": "code",
   "execution_count": 4,
   "id": "2befa8eb-47cc-4351-bfb7-e78a72017630",
   "metadata": {
    "tags": []
   },
   "outputs": [
    {
     "data": {
      "text/plain": [
       "(marg_zit = 0.5059070624015335,)"
      ]
     },
     "execution_count": 4,
     "metadata": {},
     "output_type": "execute_result"
    }
   ],
   "source": [
    "marginal, marginal_mean = sfmarginal(res)\n",
    "marginal_mean"
   ]
  },
  {
   "cell_type": "code",
   "execution_count": 8,
   "id": "36bcb413-ed6b-428d-b1a6-a397bbed0f8d",
   "metadata": {
    "tags": []
   },
   "outputs": [
    {
     "name": "stdout",
     "output_type": "stream",
     "text": [
      "\u001b[33m * bootstrap marginanl effect\u001b[39m\n",
      "\n"
     ]
    },
    {
     "name": "stderr",
     "output_type": "stream",
     "text": [
      "\u001b[37mResampling: 100%|██████████████████████████████| Time: 0:00:00\u001b[39m\n"
     ]
    },
    {
     "name": "stdout",
     "output_type": "stream",
     "text": [
      "\n",
      "Bias-Corrected 95.0% Confidence Interval:\n",
      "\n",
      "┌─────┬──────────────────────┬─────────────────┬────────────────────┐\n",
      "│     │ mean of the marginal │ std.err. of the │     bias-corrected │\n",
      "│     │       effect on E(u) │     mean effect │  95.0%  conf. int. │\n",
      "├─────┼──────────────────────┼─────────────────┼────────────────────┤\n",
      "│ zit │              0.50591 │         0.03323 │ [0.46201, 0.56282] │\n",
      "└─────┴──────────────────────┴─────────────────┴────────────────────┘\n",
      "\n"
     ]
    }
   ],
   "source": [
    "std_ci = sfmarginal(\n",
    "    res,\n",
    "    bootstrap = true,\n",
    "    R         = 10,\n",
    "    seed      = 123,\n",
    ");"
   ]
  }
 ],
 "metadata": {
  "kernelspec": {
   "display_name": "Julia 1.8.3",
   "language": "julia",
   "name": "julia-1.8"
  },
  "language_info": {
   "file_extension": ".jl",
   "mimetype": "application/julia",
   "name": "julia",
   "version": "1.8.3"
  }
 },
 "nbformat": 4,
 "nbformat_minor": 5
}
